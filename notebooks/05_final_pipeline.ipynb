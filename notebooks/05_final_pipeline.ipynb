{
  "cells": [
    {
      "cell_type": "markdown",
      "metadata": {},
      "source": [
        "# 5. Финальный пайплайн инференса (Pipeline.from_artifacts)\n",
        "- Короткая демонстрация того, как собирать пайплайн из артефактов проекта\n",
        "- Одиночный инференс с Grad-CAM и JSON-отчетом\n",
        "- Пакетный инференс по папке с агрегированным JSON и опциональными per-file JSON\n",
        "- Заключение"
      ]
    },
    {
      "cell_type": "code",
      "execution_count": 1,
      "id": "c059994c",
      "metadata": {},
      "outputs": [],
      "source": [
        "import sys\n",
        "from pathlib import Path\n",
        "ROOT = Path.cwd().parent\n",
        "if str(ROOT) not in sys.path:\n",
        "    sys.path.append(str(ROOT))\n",
        "\n",
        "RAW_DIR = ROOT / 'data' / 'raw'\n",
        "MODELS_DIR = ROOT / 'models'\n",
        "REPORTS_DIR = ROOT / 'reports'\n",
        "\n",
        "import json\n",
        "import torch\n",
        "# src\n",
        "from src.final_pipeline import Pipeline"
      ]
    },
    {
      "cell_type": "code",
      "execution_count": 2,
      "id": "09caf02a",
      "metadata": {},
      "outputs": [
        {
          "name": "stdout",
          "output_type": "stream",
          "text": [
            "CUDA is available!\n",
            "Device name: NVIDIA GeForce RTX 3060 Laptop GPU\n",
            "CUDA version: 12.4\n"
          ]
        }
      ],
      "source": [
        "# Проверка CUDA\n",
        "if torch.cuda.is_available():\n",
        "    print('CUDA is available!')\n",
        "    print('Device name:', torch.cuda.get_device_name(0))\n",
        "    print(f'CUDA version: {torch.version.cuda}')\n",
        "else:\n",
        "    print('CUDA is not available.')"
      ]
    },
    {
      "cell_type": "markdown",
      "id": "881c7249",
      "metadata": {},
      "source": [
        "## Одиночный инференс\n",
        "- Загружаем пайплайн из артефактов: модели, нормировок, лучших параметров\n",
        "- Обрабатываем все `*.dcm` в указанной папке\n",
        "- Градиентные карты в `reports/gradcam_infer/<имя_файла>/...`\n",
        "- Агрегированный JSON в `reports/patient_inference.json`\n",
        "- При `per_file=True` создаются отдельные JSON на каждый файл в `reports/inference/`\n"
      ]
    },
    {
      "cell_type": "code",
      "execution_count": 3,
      "id": "0f39e732",
      "metadata": {},
      "outputs": [
        {
          "data": {
            "application/vnd.jupyter.widget-view+json": {
              "model_id": "1f4e0bd6523240b5ae5caafcb0e47865",
              "version_major": 2,
              "version_minor": 0
            },
            "text/plain": [
              "Infer author:   0%|          | 0/1 [00:00<?, ?img/s]"
            ]
          },
          "metadata": {},
          "output_type": "display_data"
        },
        {
          "name": "stdout",
          "output_type": "stream",
          "text": [
            "{\n",
            "  \"model_accuracy_percent\": 73.019,\n",
            "  \"items\": [\n",
            "    {\n",
            "      \"dicom_file\": \"alexander.dcm\",\n",
            "      \"patient_meta\": {\n",
            "        \"age\": 0.0,\n",
            "        \"sex\": \"M\",\n",
            "        \"view_position\": \"Unknown\",\n",
            "        \"spacing_x\": 0.14111110568,\n",
            "        \"spacing_y\": 0.14111110568\n",
            "      },\n",
            "      \"predicted_class\": \"Норма - %\",\n",
            "      \"probabilities\": {\n",
            "        \"Норма - %\": 97.413,\n",
            "        \"Пневмония - %\": 0.155,\n",
            "        \"Патология легких - %\": 2.432\n",
            "      },\n",
            "      \"gradcam_visualization\": \"reports\\\\gradcam_infer\\\\alexander\\\\gradcam_pred_0.png\"\n",
            "    }\n",
            "  ]\n",
            "}\n"
          ]
        }
      ],
      "source": [
        "class_names = ['Норма - %', 'Пневмония - %', 'Патология легких - %']\n",
        "dcm_dir = RAW_DIR / 'author' # здесь находится мой реальный снимок легких, который я сделал несколько дней назад, мне предоставили dcm файл\n",
        "\n",
        "if dcm_dir.exists():\n",
        "    pipe = Pipeline.from_artifacts(models_dir=MODELS_DIR, reports_dir=REPORTS_DIR)\n",
        "    agg_report = pipe.infer_dir_to_json(\n",
        "        dcm_dir,\n",
        "        class_names=class_names,\n",
        "        out_json=REPORTS_DIR / 'patient_inference.json',\n",
        "        per_file=False,\n",
        "    )\n",
        "    print(json.dumps(agg_report, indent=2, ensure_ascii=False))\n",
        "else:\n",
        "    print('[skip] Папка с DICOM не найдена:', dcm_dir)"
      ]
    },
    {
      "cell_type": "markdown",
      "id": "3cf6c87b",
      "metadata": {},
      "source": [
        "## Пакетный инференс\n",
        "- Обрабатываем все `*.dcm` в указанной папке\n",
        "- Градиентные карты в `reports/gradcam_infer/<имя_файла>/...`\n",
        "- Агрегированный JSON в `reports/patient_inference.json`\n",
        "- При `per_file=True` создаются отдельные JSON на каждый файл в `reports/inference/`"
      ]
    },
    {
      "cell_type": "code",
      "execution_count": null,
      "id": "9e595c9b",
      "metadata": {},
      "outputs": [
        {
          "data": {
            "application/vnd.jupyter.widget-view+json": {
              "model_id": "c01091d47a814b4b92c8ccf7eceba425",
              "version_major": 2,
              "version_minor": 0
            },
            "text/plain": [
              "Infer stage_2_test_images:   0%|          | 0/3000 [00:00<?, ?img/s]"
            ]
          },
          "metadata": {},
          "output_type": "display_data"
        }
      ],
      "source": [
        "dcm_dir = RAW_DIR / 'stage_2_test_images'\n",
        "\n",
        "if dcm_dir.exists():\n",
        "    pipe = Pipeline.from_artifacts(models_dir=MODELS_DIR, reports_dir=REPORTS_DIR)\n",
        "    agg_report = pipe.infer_dir_to_json(\n",
        "        dcm_dir,\n",
        "        class_names=class_names,\n",
        "        out_json=REPORTS_DIR / 'patient_inference.json',\n",
        "        per_file=False,\n",
        "    )\n",
        "    print(json.dumps(agg_report, indent=2, ensure_ascii=False))\n",
        "else:\n",
        "    print('[skip] Папка с DICOM не найдена:', dcm_dir)"
      ]
    },
    {
      "cell_type": "markdown",
      "id": "4e975346",
      "metadata": {},
      "source": [
        "# Финальное заключение по модели **ResNet50 (Transfer + Optuna + Meta)**\n",
        "\n",
        "В ходе проекта была разработана и поэтапно улучшена модель глубокого обучения для автоматического анализа рентгеновских снимков грудной клетки с целью выявления пневмонии или других патологий легких.\n",
        "\n",
        "Исследование включало три ключевых этапа:\n",
        "\n",
        "1. **Базовая модель ResNet18** - определяла исходный уровень точности и позволила сформировать контрольную точку сравнения.  \n",
        "2. **ResNet50 (Transfer + Optuna)** - улучшенная архитектура на предобученных весах *ImageNet*, оптимизированная с помощью подбора гиперпараметров\n",
        "(*Optuna*, 100 trial’ов).\n",
        "3. **ResNet50 Final (Transfer + Optuna + Meta)** - итоговая версия модели, дополненная мета-информацией о пациенте (возраст, пол, тип проекции, параметры *spacing*), и адаптированная для инференса в продакшен-сценариях.\n",
        "\n",
        "Добавление мета-признаков обеспечило точечный, устойчивый прирост метрик (особенно *F1-weighted* и *PR-AUC*) и заметное улучшение на патологических классах (*Lung Opacity*, *Not Normal*).\n",
        "Модель стала чувствительнее к признакам заболевания, при этом сохранив общую устойчивость.\n",
        "\n",
        "---\n",
        "\n",
        "## Финальное тестирование и продакшен-пайплайн\n",
        "\n",
        "В финальной стадии был реализован **инференс-пайплайн (Pipeline)**, который объединяет:\n",
        "- чтение и обработку DICOM/PNG снимков;\n",
        "- нормализацию мета-признаков и предсказание модели;\n",
        "- генерацию визуализаций **Grad-CAM**;\n",
        "- формирование итогового **JSON-отчета**, содержащего:\n",
        "  - мета-информацию пациента (возраст, пол, проекция, spacing);\n",
        "  - вероятности по каждому классу;\n",
        "  - путь к Grad-CAM визуализации.\n",
        "\n",
        "Пример фрагмента отчета:\n",
        "```json\n",
        "{\n",
        "  \"model_accuracy_percent\": 73.019,\n",
        "  \"items\": [\n",
        "    {\n",
        "      \"dicom_file\": \"alexander.dcm\",\n",
        "      \"patient_meta\": {\n",
        "        \"age\": 0.0,\n",
        "        \"sex\": \"M\",\n",
        "        \"view_position\": \"Unknown\",\n",
        "        \"spacing_x\": 0.14111110568,\n",
        "        \"spacing_y\": 0.14111110568\n",
        "      },\n",
        "      \"predicted_class\": \"Норма - %\",\n",
        "      \"probabilities\": {\n",
        "        \"Норма - %\": 97.413,\n",
        "        \"Пневмония - %\": 0.155,\n",
        "        \"Патология легких - %\": 2.432\n",
        "      },\n",
        "      \"gradcam_visualization\": \"reports\\\\gradcam_infer\\\\alexander\\\\gradcam_pred_0.png\"\n",
        "    }\n",
        "  ]\n",
        "}\n",
        "```\n",
        "\n",
        "Данная модель имеет общую точность предсказания в **73 процента**. Для использования в исследовательских целях или в качестве дополнительного инструмента врача этого достаточно, но для медицинского продакшена нужно расширение данных и дополнительное дообучение модели, чтобы довести точность модели до 90+ процентов."
      ]
    }
  ],
  "metadata": {
    "kernelspec": {
      "display_name": ".venv",
      "language": "python",
      "name": "python3"
    },
    "language_info": {
      "codemirror_mode": {
        "name": "ipython",
        "version": 3
      },
      "file_extension": ".py",
      "mimetype": "text/x-python",
      "name": "python",
      "nbconvert_exporter": "python",
      "pygments_lexer": "ipython3",
      "version": "3.12.7"
    }
  },
  "nbformat": 4,
  "nbformat_minor": 5
}
